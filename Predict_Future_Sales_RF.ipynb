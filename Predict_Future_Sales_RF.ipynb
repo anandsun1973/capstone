{
 "cells": [
  {
   "cell_type": "code",
   "execution_count": 1,
   "metadata": {},
   "outputs": [],
   "source": [
    "import os\n",
    "from collections import Counter\n",
    "import pandas as pd\n",
    "import numpy as np\n",
    "import seaborn as sns\n",
    "import matplotlib.pyplot as plt\n",
    "import matplotlib.dates as md\n",
    "import matplotlib\n",
    "import pylab as pl"
   ]
  },
  {
   "cell_type": "code",
   "execution_count": 2,
   "metadata": {},
   "outputs": [],
   "source": [
    "%matplotlib inline\n",
    "sns.set(style=\"darkgrid\")\n",
    "pd.set_option('display.float_format', lambda x: '%.2f' % x)"
   ]
  },
  {
   "cell_type": "code",
   "execution_count": 3,
   "metadata": {},
   "outputs": [
    {
     "name": "stdout",
     "output_type": "stream",
     "text": [
      "C:\\Users\\sugan\n"
     ]
    }
   ],
   "source": [
    "s=os.getcwd()\n",
    "print(s)\n",
    "pd.set_option('display.max_columns', 10)"
   ]
  },
  {
   "cell_type": "code",
   "execution_count": 4,
   "metadata": {},
   "outputs": [],
   "source": [
    "# Loading data set\n",
    "items = pd.read_csv('items.csv')\n",
    "shops = pd.read_csv('shops.csv')\n",
    "cats = pd.read_csv('item_categories.csv')\n",
    "sales_train = pd.read_csv('sales_train.csv')\n",
    "sales_test = pd.read_csv('sales_test.csv')"
   ]
  },
  {
   "cell_type": "code",
   "execution_count": 5,
   "metadata": {},
   "outputs": [],
   "source": [
    "train = sales_train.join(items, on='item_id', rsuffix='_').join(shops, on='shop_id', rsuffix='_').join(cats, on='item_category_id', rsuffix='_').drop(['item_id_', 'shop_id_', 'item_category_id_'], axis=1)"
   ]
  },
  {
   "cell_type": "code",
   "execution_count": 6,
   "metadata": {},
   "outputs": [
    {
     "data": {
      "text/plain": [
       "(2935849, 10)"
      ]
     },
     "execution_count": 6,
     "metadata": {},
     "output_type": "execute_result"
    }
   ],
   "source": [
    "train.shape"
   ]
  },
  {
   "cell_type": "code",
   "execution_count": 7,
   "metadata": {},
   "outputs": [
    {
     "name": "stdout",
     "output_type": "stream",
     "text": [
      "              date  date_block_num    shop_id    item_id  item_price  \\\n",
      "count      2935849      2935849.00 2935849.00 2935849.00  2935849.00   \n",
      "unique        1034             nan        nan        nan         nan   \n",
      "top     28.12.2013             nan        nan        nan         nan   \n",
      "freq          9434             nan        nan        nan         nan   \n",
      "mean           NaN           14.57      33.00   10197.23      890.85   \n",
      "std            NaN            9.42      16.23    6324.30     1729.80   \n",
      "min            NaN            0.00       0.00       0.00       -1.00   \n",
      "25%            NaN            7.00      22.00    4476.00      249.00   \n",
      "50%            NaN           14.00      31.00    9343.00      399.00   \n",
      "75%            NaN           23.00      47.00   15684.00      999.00   \n",
      "max            NaN           33.00      59.00   22169.00   307980.00   \n",
      "\n",
      "        item_cnt_day                                          item_name  \\\n",
      "count     2935849.00                                            2935849   \n",
      "unique           nan                                              21807   \n",
      "top              nan  Фирменный пакет майка 1С Интерес белый (34*42)...   \n",
      "freq             nan                                              31340   \n",
      "mean            1.24                                                NaN   \n",
      "std             2.62                                                NaN   \n",
      "min           -22.00                                                NaN   \n",
      "25%             1.00                                                NaN   \n",
      "50%             1.00                                                NaN   \n",
      "75%             1.00                                                NaN   \n",
      "max          2169.00                                                NaN   \n",
      "\n",
      "        item_category_id                shop_name item_category_name  \n",
      "count         2935849.00                  2935849            2935849  \n",
      "unique               nan                       60                 84  \n",
      "top                  nan  Москва ТЦ \"Семеновский\"         Кино - DVD  \n",
      "freq                 nan                   235636             564652  \n",
      "mean               40.00                      NaN                NaN  \n",
      "std                17.10                      NaN                NaN  \n",
      "min                 0.00                      NaN                NaN  \n",
      "25%                28.00                      NaN                NaN  \n",
      "50%                40.00                      NaN                NaN  \n",
      "75%                55.00                      NaN                NaN  \n",
      "max                83.00                      NaN                NaN  \n"
     ]
    }
   ],
   "source": [
    "print(train.describe(include=\"all\"))"
   ]
  },
  {
   "cell_type": "code",
   "execution_count": 8,
   "metadata": {},
   "outputs": [
    {
     "data": {
      "text/plain": [
       "<matplotlib.axes._subplots.AxesSubplot at 0x1b00203d828>"
      ]
     },
     "execution_count": 8,
     "metadata": {},
     "output_type": "execute_result"
    },
    {
     "data": {
      "image/png": "[encoded data removed]",
      "text/plain": [
       "<Figure size 1080x504 with 1 Axes>"
      ]
     },
     "metadata": {},
     "output_type": "display_data"
    },
    {
     "data": {
      "image/png": "[encoded data removed]",
      "text/plain": [
       "<Figure size 1080x504 with 1 Axes>"
      ]
     },
     "metadata": {},
     "output_type": "display_data"
    }
   ],
   "source": [
    "plt.figure(figsize=(15,7))\n",
    "plt.xlim(train.item_cnt_day.min()*1.5, train.item_cnt_day.max()*1.1)\n",
    "sns.boxplot(x=train.item_cnt_day)\n",
    "\n",
    "plt.figure(figsize=(15,7))\n",
    "plt.xlim(train.item_price.min(), train.item_price.max()*1.1)\n",
    "sns.boxplot(x=train.item_price)"
   ]
  },
  {
   "cell_type": "code",
   "execution_count": 9,
   "metadata": {},
   "outputs": [],
   "source": [
    "median = train.item_price.median()\n",
    "train.loc[train.item_price<0, 'item_price'] = median\n",
    "train = train[train.item_price<100000]"
   ]
  },
  {
   "cell_type": "code",
   "execution_count": 10,
   "metadata": {},
   "outputs": [
    {
     "data": {
      "text/plain": [
       "<matplotlib.axes._subplots.AxesSubplot at 0x1b0024f6e48>"
      ]
     },
     "execution_count": 10,
     "metadata": {},
     "output_type": "execute_result"
    },
    {
     "data": {
      "image/png": "[encoded data removed]",
      "text/plain": [
       "<Figure size 1080x504 with 1 Axes>"
      ]
     },
     "metadata": {},
     "output_type": "display_data"
    }
   ],
   "source": [
    "plt.figure(figsize=(15,7))\n",
    "plt.xlim(train.item_price.min(), train.item_price.max()*1.1)\n",
    "sns.boxplot(x=train.item_price)"
   ]
  },
  {
   "cell_type": "code",
   "execution_count": 12,
   "metadata": {},
   "outputs": [
    {
     "name": "stdout",
     "output_type": "stream",
     "text": [
      "(5100,)\n",
      "(2935848, 10)\n",
      "(2413245, 10)\n",
      "(1224439, 10)\n"
     ]
    }
   ],
   "source": [
    "test_shop_ids = sales_test['shop_id'].unique()\n",
    "test_item_ids = sales_test['item_id'].unique()\n",
    "print(test_item_ids.shape)\n",
    "new_train = train[train['shop_id'].isin(test_shop_ids)]\n",
    "print(train.shape)\n",
    "print(new_train.shape)\n",
    "new_train = new_train[new_train['item_id'].isin(test_item_ids)]\n",
    "print(new_train.shape)"
   ]
  },
  {
   "cell_type": "code",
   "execution_count": 14,
   "metadata": {},
   "outputs": [],
   "source": [
    "month_train = new_train[['date', 'date_block_num', 'shop_id', 'item_category_id', 'item_id', 'item_price', 'item_cnt_day']]"
   ]
  },
  {
   "cell_type": "code",
   "execution_count": 15,
   "metadata": {},
   "outputs": [],
   "source": [
    "month_train = month_train.sort_values('date').groupby(['date_block_num', 'shop_id', 'item_category_id', 'item_id'], as_index=False)"
   ]
  },
  {
   "cell_type": "code",
   "execution_count": 16,
   "metadata": {},
   "outputs": [
    {
     "name": "stdout",
     "output_type": "stream",
     "text": [
      "               date  date_block_num  shop_id  item_category_id  item_id  \\\n",
      "21124    01.01.2013               0       28                65    16135   \n",
      "54645    01.01.2013               0        7                55     8012   \n",
      "106792   01.01.2013               0       37                30     2703   \n",
      "54571    01.01.2013               0        7                55    10786   \n",
      "47497    01.01.2013               0       15                30     2308   \n",
      "45604    01.01.2013               0       15                55    18669   \n",
      "56913    01.01.2013               0       14                21     1523   \n",
      "45676    01.01.2013               0       15                40    19080   \n",
      "15689    01.01.2013               0       28                 5     5583   \n",
      "108792   01.01.2013               0       46                40    16450   \n",
      "10621    01.01.2013               0       19                62    13086   \n",
      "56935    01.01.2013               0       14                28     1829   \n",
      "15680    01.01.2013               0       28                 2     5572   \n",
      "45807    01.01.2013               0       15                40    17452   \n",
      "107345   01.01.2013               0       38                40       32   \n",
      "47433    01.01.2013               0       15                30     5272   \n",
      "10599    01.01.2013               0       19                55    12472   \n",
      "108829   01.01.2013               0       46                67    16315   \n",
      "108984   01.01.2013               0       46                40    14390   \n",
      "10597    01.01.2013               0       19                55    12473   \n",
      "21741    01.01.2013               0       28                57    19258   \n",
      "105810   01.01.2013               0       37                 6     7882   \n",
      "108985   01.01.2013               0       46                40    14389   \n",
      "110587   01.01.2013               0       42                67     5145   \n",
      "47408    01.01.2013               0       15                35     5822   \n",
      "111990   01.01.2013               0       42                23     3556   \n",
      "9400     01.01.2013               0       19                19     3686   \n",
      "47405    01.01.2013               0       15                30     5811   \n",
      "54666    01.01.2013               0        7                28     7856   \n",
      "47518    01.01.2013               0       15                30     2808   \n",
      "...             ...             ...      ...               ...      ...   \n",
      "2268077  31.12.2014              23       19                55    13889   \n",
      "2268089  31.12.2014              23       19                63    15299   \n",
      "2268095  31.12.2014              23       19                63    15289   \n",
      "2308353  31.12.2014              23       21                63    15450   \n",
      "2267951  31.12.2014              23       19                30     6628   \n",
      "2267794  31.12.2014              23       19                55     5945   \n",
      "2267601  31.12.2014              23       19                40    10343   \n",
      "2267603  31.12.2014              23       19                40    10337   \n",
      "2267605  31.12.2014              23       19                40    10334   \n",
      "2267606  31.12.2014              23       19                40    10331   \n",
      "2267615  31.12.2014              23       19                55    10131   \n",
      "2267644  31.12.2014              23       19                40     8702   \n",
      "2223620  31.12.2014              23       50                24     4247   \n",
      "2223610  31.12.2014              23       50                23     4248   \n",
      "2267664  31.12.2014              23       19                70     9403   \n",
      "2267669  31.12.2014              23       19                70     9401   \n",
      "2267670  31.12.2014              23       19                70     9399   \n",
      "2267697  31.12.2014              23       19                55     6051   \n",
      "2267718  31.12.2014              23       19                22     6083   \n",
      "2267724  31.12.2014              23       19                30     6185   \n",
      "2267736  31.12.2014              23       19                30     6457   \n",
      "2267737  31.12.2014              23       19                30     6436   \n",
      "2267742  31.12.2014              23       19                55     6238   \n",
      "2212567  31.12.2014              23       57                62    15017   \n",
      "2267757  31.12.2014              23       19                55     6004   \n",
      "2308419  31.12.2014              23       21                63    15275   \n",
      "2267760  31.12.2014              23       19                 2     5634   \n",
      "2267778  31.12.2014              23       19                30     5900   \n",
      "2268099  31.12.2014              23       19                63    15279   \n",
      "2282452  31.12.2014              23        6                67     4633   \n",
      "\n",
      "         item_price  item_cnt_day  \n",
      "21124        249.00          1.00  \n",
      "54645        299.00          1.00  \n",
      "106792       599.00          1.00  \n",
      "54571        249.00          1.00  \n",
      "47497        799.00          1.00  \n",
      "45604        199.00          1.00  \n",
      "56913        799.00          1.00  \n",
      "45676        149.00          1.00  \n",
      "15689        699.00          1.00  \n",
      "108792       399.00          1.00  \n",
      "10621       1499.00         -1.00  \n",
      "56935       1499.00          1.00  \n",
      "15680       1590.00          1.00  \n",
      "45807        149.00          1.00  \n",
      "107345       349.00          1.00  \n",
      "47433        599.00          1.00  \n",
      "10599        199.00          1.00  \n",
      "108829       949.00          1.00  \n",
      "108984       149.00          1.00  \n",
      "10597        199.00          1.00  \n",
      "21741        299.00          1.00  \n",
      "105810      1390.00          1.00  \n",
      "108985       149.00          1.00  \n",
      "110587       449.00          1.00  \n",
      "47408        999.00          2.00  \n",
      "111990      2194.21          1.00  \n",
      "9400         899.00          2.00  \n",
      "47405        199.00          1.00  \n",
      "54666        799.00          1.00  \n",
      "47518        999.00          2.00  \n",
      "...             ...           ...  \n",
      "2268077      199.00          1.00  \n",
      "2268089      959.00          1.00  \n",
      "2268095     1499.00          1.00  \n",
      "2308353      599.00          1.00  \n",
      "2267951      699.00          1.00  \n",
      "2267794      299.00          1.00  \n",
      "2267601      149.00          1.00  \n",
      "2267603      149.00          1.00  \n",
      "2267605      149.00          1.00  \n",
      "2267606      149.00          2.00  \n",
      "2267615      199.00          1.00  \n",
      "2267644      399.00          2.00  \n",
      "2223620     1999.00          1.00  \n",
      "2223610      899.52          1.00  \n",
      "2267664      299.00          1.00  \n",
      "2267669      299.00          1.00  \n",
      "2267670      299.00          1.00  \n",
      "2267697      399.00          2.00  \n",
      "2267718      749.00          1.00  \n",
      "2267724      499.00          1.00  \n",
      "2267736      699.00          2.00  \n",
      "2267737     1399.00          1.00  \n",
      "2267742      299.00          1.00  \n",
      "2212567     2299.00          1.00  \n",
      "2267757      299.00          1.00  \n",
      "2308419     1599.00          1.00  \n",
      "2267760     3290.00          1.00  \n",
      "2267778     1199.00          1.00  \n",
      "2268099     1099.00          1.00  \n",
      "2282452     2549.00          1.00  \n",
      "\n",
      "[1075034 rows x 7 columns]\n"
     ]
    }
   ],
   "source": [
    "print(month_train.head())"
   ]
  },
  {
   "cell_type": "code",
   "execution_count": 17,
   "metadata": {},
   "outputs": [],
   "source": [
    "month_train = month_train.agg({'item_price':['sum', 'mean'], 'item_cnt_day':['sum', 'mean','count']})"
   ]
  },
  {
   "cell_type": "code",
   "execution_count": 18,
   "metadata": {},
   "outputs": [
    {
     "name": "stdout",
     "output_type": "stream",
     "text": [
      "  date_block_num shop_id item_category_id item_id item_price          \\\n",
      "                                                         sum    mean   \n",
      "0              0       2                2    5572   10730.00 1532.86   \n",
      "1              0       2                2    5643    4775.21 2387.61   \n",
      "2              0       2                5    5583    1188.30  594.15   \n",
      "3              0       2                6    7893    5970.00 1990.00   \n",
      "4              0       2                6    7894    1490.00 1490.00   \n",
      "\n",
      "  item_cnt_day             \n",
      "           sum mean count  \n",
      "0         9.00 1.29     7  \n",
      "1         0.00 0.00     2  \n",
      "2         2.00 1.00     2  \n",
      "3         3.00 1.00     3  \n",
      "4         1.00 1.00     1  \n"
     ]
    }
   ],
   "source": [
    "print(month_train.head())"
   ]
  },
  {
   "cell_type": "code",
   "execution_count": 19,
   "metadata": {},
   "outputs": [],
   "source": [
    "month_train.columns = ['date_block_num', 'shop_id', 'item_category_id', 'item_id', 'item_price', 'mean_item_price', 'item_cnt', 'mean_item_cnt', 'transactions']"
   ]
  },
  {
   "cell_type": "code",
   "execution_count": 20,
   "metadata": {},
   "outputs": [],
   "source": [
    "shop_ids = month_train['shop_id'].unique()\n",
    "item_ids = month_train['item_id'].unique()\n",
    "empty_df = []\n",
    "for i in range(34):\n",
    "    for shop in shop_ids:\n",
    "        for item in item_ids:\n",
    "            empty_df.append([i, shop, item])\n",
    "    \n",
    "empty_df = pd.DataFrame(empty_df, columns=['date_block_num','shop_id','item_id'])"
   ]
  },
  {
   "cell_type": "code",
   "execution_count": 21,
   "metadata": {},
   "outputs": [],
   "source": [
    "month_train = pd.merge(empty_df, month_train, on=['date_block_num','shop_id','item_id'], how='left')\n",
    "month_train.fillna(0, inplace=True)"
   ]
  },
  {
   "cell_type": "code",
   "execution_count": 22,
   "metadata": {},
   "outputs": [],
   "source": [
    "month_train['year'] = month_train['date_block_num'].apply(lambda x: ((x//12) + 2013))\n",
    "month_train['month'] = month_train['date_block_num'].apply(lambda x: (x % 12))"
   ]
  },
  {
   "cell_type": "code",
   "execution_count": 23,
   "metadata": {},
   "outputs": [],
   "source": [
    "monthly_mean = month_train.groupby(['month'], as_index=False)['item_cnt'].mean()\n",
    "monthly_sum = month_train.groupby(['month'], as_index=False)['item_cnt'].sum()\n",
    "category_mean = month_train.groupby(['item_category_id'], as_index=False)['item_cnt'].mean()\n",
    "category_sum = month_train.groupby(['item_category_id'], as_index=False)['item_cnt'].sum()\n",
    "shop_mean = month_train.groupby(['shop_id'], as_index=False)['item_cnt'].mean()\n",
    "shop_sum = month_train.groupby(['shop_id'], as_index=False)['item_cnt'].sum()"
   ]
  },
  {
   "cell_type": "code",
   "execution_count": 24,
   "metadata": {},
   "outputs": [
    {
     "data": {
      "image/png": "[encoded data removed]",
      "text/plain": [
       "<Figure size 1584x576 with 1 Axes>"
      ]
     },
     "metadata": {},
     "output_type": "display_data"
    }
   ],
   "source": [
    "plt.figure(figsize=(22, 8))\n",
    "sns.boxplot(x=month_train.item_cnt)\n",
    "plt.show()"
   ]
  },
  {
   "cell_type": "code",
   "execution_count": 25,
   "metadata": {},
   "outputs": [
    {
     "data": {
      "text/plain": [
       "date_block_num        int64\n",
       "shop_id               int64\n",
       "item_id               int64\n",
       "item_category_id    float64\n",
       "item_price          float64\n",
       "mean_item_price     float64\n",
       "item_cnt            float64\n",
       "mean_item_cnt       float64\n",
       "transactions        float64\n",
       "year                  int64\n",
       "month                 int64\n",
       "dtype: object"
      ]
     },
     "execution_count": 25,
     "metadata": {},
     "output_type": "execute_result"
    }
   ],
   "source": [
    "month_train.dtypes"
   ]
  },
  {
   "cell_type": "code",
   "execution_count": 26,
   "metadata": {},
   "outputs": [],
   "source": [
    "month_train['item_cnt_month'] = month_train.sort_values('date_block_num').groupby(['shop_id', 'item_id'])['item_cnt'].shift(-1)"
   ]
  },
  {
   "cell_type": "code",
   "execution_count": 27,
   "metadata": {},
   "outputs": [],
   "source": [
    "month_train['item_price_unit'] = month_train['item_price'] // month_train['item_cnt']\n",
    "month_train['item_price_unit'].fillna(0, inplace=True)"
   ]
  },
  {
   "cell_type": "code",
   "execution_count": 28,
   "metadata": {},
   "outputs": [],
   "source": [
    "group_item_price = month_train.sort_values('date_block_num').groupby(['item_id'], as_index=False).agg({'item_price':[np.min, np.max]})\n",
    "group_item_price.columns = ['item_id', 'hist_min_item_price', 'hist_max_item_price']\n",
    "\n",
    "month_train = pd.merge(month_train, group_item_price, on='item_id', how='left')"
   ]
  },
  {
   "cell_type": "code",
   "execution_count": 29,
   "metadata": {},
   "outputs": [],
   "source": [
    "month_train['price_increase'] = month_train['item_price'] - month_train['hist_min_item_price']\n",
    "month_train['price_decrease'] = month_train['hist_max_item_price'] - month_train['item_price']"
   ]
  },
  {
   "cell_type": "code",
   "execution_count": 30,
   "metadata": {},
   "outputs": [],
   "source": [
    "# Min value\n",
    "f_min = lambda x: x.rolling(window=3, min_periods=1).min()\n",
    "# Max value\n",
    "f_max = lambda x: x.rolling(window=3, min_periods=1).max()\n",
    "# Mean value\n",
    "f_mean = lambda x: x.rolling(window=3, min_periods=1).mean()\n",
    "# Standard deviation\n",
    "f_std = lambda x: x.rolling(window=3, min_periods=1).std()\n",
    "\n",
    "function_list = [f_min, f_max, f_mean, f_std]\n",
    "function_name = ['min', 'max', 'mean', 'std']\n",
    "\n",
    "for i in range(len(function_list)):\n",
    "    month_train[('item_cnt_%s' % function_name[i])] = month_train.sort_values('date_block_num').groupby(['shop_id', 'item_category_id', 'item_id'])['item_cnt'].apply(function_list[i])\n",
    "\n",
    "# Fill the empty std features with 0\n",
    "month_train['item_cnt_std'].fillna(0, inplace=True)"
   ]
  },
  {
   "cell_type": "code",
   "execution_count": 31,
   "metadata": {},
   "outputs": [],
   "source": [
    "lag_list = [1, 2, 3]\n",
    "\n",
    "for lag in lag_list:\n",
    "    ft_name = ('item_cnt_shifted%s' % lag)\n",
    "    month_train[ft_name] = month_train.sort_values('date_block_num').groupby(['shop_id', 'item_category_id', 'item_id'])['item_cnt'].shift(lag)\n",
    "    # Fill the empty shifted features with 0\n",
    "    month_train[ft_name].fillna(0, inplace=True)"
   ]
  },
  {
   "cell_type": "code",
   "execution_count": 32,
   "metadata": {},
   "outputs": [],
   "source": [
    "month_train['item_trend'] = month_train['item_cnt']\n",
    "\n",
    "for lag in lag_list:\n",
    "    ft_name = ('item_cnt_shifted%s' % lag)\n",
    "    month_train['item_trend'] -= month_train[ft_name]\n",
    "\n",
    "month_train['item_trend'] /= len(lag_list) + 1"
   ]
  },
  {
   "cell_type": "code",
   "execution_count": 33,
   "metadata": {},
   "outputs": [],
   "source": [
    "train_set = month_train.query('date_block_num >= 3 and date_block_num < 28').copy()\n",
    "validation_set = month_train.query('date_block_num >= 28 and date_block_num < 33').copy()\n",
    "test_set = month_train.query('date_block_num == 33').copy()\n",
    "\n",
    "train_set.dropna(subset=['item_cnt_month'], inplace=True)\n",
    "validation_set.dropna(subset=['item_cnt_month'], inplace=True)\n",
    "\n",
    "train_set.dropna(inplace=True)\n",
    "validation_set.dropna(inplace=True)"
   ]
  },
  {
   "cell_type": "code",
   "execution_count": 34,
   "metadata": {},
   "outputs": [],
   "source": [
    "X_train = train_set.drop(['item_cnt_month', 'date_block_num'], axis=1)\n",
    "Y_train = train_set['item_cnt_month'].astype(int)\n",
    "X_validation = validation_set.drop(['item_cnt_month', 'date_block_num'], axis=1)\n",
    "Y_validation = validation_set['item_cnt_month'].astype(int)"
   ]
  },
  {
   "cell_type": "code",
   "execution_count": 35,
   "metadata": {},
   "outputs": [],
   "source": [
    "int_features = ['shop_id', 'item_id', 'year', 'month']\n",
    "\n",
    "X_train[int_features] = X_train[int_features].astype('int32')\n",
    "X_validation[int_features] = X_validation[int_features].astype('int32')"
   ]
  },
  {
   "cell_type": "code",
   "execution_count": 37,
   "metadata": {},
   "outputs": [],
   "source": [
    "latest_records = pd.concat([train_set, validation_set]).drop_duplicates(subset=['shop_id', 'item_id'], keep='last')\n",
    "X_test = pd.merge(sales_test, latest_records, on=['shop_id', 'item_id'], how='left', suffixes=['', '_'])\n",
    "X_test['year'] = 2015\n",
    "X_test['month'] = 9\n",
    "X_test.drop('item_cnt_month', axis=1, inplace=True)\n",
    "X_test[int_features] = X_test[int_features].astype('int32')\n",
    "X_test = X_test[X_train.columns]"
   ]
  },
  {
   "cell_type": "code",
   "execution_count": 38,
   "metadata": {},
   "outputs": [],
   "source": [
    "sets = [X_train, X_validation, X_test]\n",
    "           \n",
    "for dataset in sets:\n",
    "    for shop_id in dataset['shop_id'].unique():\n",
    "        for column in dataset.columns:\n",
    "            shop_median = dataset[(dataset['shop_id'] == shop_id)][column].median()\n",
    "            dataset.loc[(dataset[column].isnull()) & (dataset['shop_id'] == shop_id), column] = shop_median\n",
    "            \n",
    "X_test.fillna(X_test.mean(), inplace=True)"
   ]
  },
  {
   "cell_type": "code",
   "execution_count": 39,
   "metadata": {},
   "outputs": [
    {
     "name": "stdout",
     "output_type": "stream",
     "text": [
      "                           0       1       2       3       4\n",
      "shop_id                 5.00    5.00    5.00    5.00    5.00\n",
      "item_id              5037.00 5320.00 5233.00 5232.00 5268.00\n",
      "item_category_id       19.00    0.00   19.00    0.00    0.00\n",
      "item_price            749.50    0.00 2997.00    0.00    0.00\n",
      "mean_item_price       749.50    0.00  999.00    0.00    0.00\n",
      "item_cnt                1.00    0.00    3.00    0.00    0.00\n",
      "mean_item_cnt           1.00    0.00    1.00    0.00    0.00\n",
      "transactions            1.00    0.00    3.00    0.00    0.00\n",
      "year                 2015.00 2015.00 2015.00 2015.00 2015.00\n",
      "month                   9.00    9.00    9.00    9.00    9.00\n",
      "item_price_unit       749.00    0.00  999.00    0.00    0.00\n",
      "hist_min_item_price     0.00    0.00    0.00    0.00    0.00\n",
      "hist_max_item_price 25990.00 2495.00 7191.75 4796.00 2495.00\n",
      "price_increase        749.50    0.00 2997.00    0.00    0.00\n",
      "price_decrease      25240.50 2398.00 4194.75 4796.00 2398.00\n",
      "item_cnt_min            1.00    0.00    1.00    0.00    0.00\n",
      "item_cnt_max            3.00    0.00    3.00    0.00    0.00\n",
      "item_cnt_mean           1.67    0.00    2.00    0.00    0.00\n",
      "item_cnt_std            1.15    0.00    1.00    0.00    0.00\n",
      "item_cnt_shifted1       3.00    0.00    1.00    0.00    0.00\n",
      "item_cnt_shifted2       1.00    0.00    2.00    0.00    0.00\n",
      "item_cnt_shifted3       1.00    0.00    3.00    0.00    0.00\n",
      "item_trend             -1.00    0.00   -0.75    0.00    0.00\n"
     ]
    }
   ],
   "source": [
    "print(X_test.head().T)"
   ]
  },
  {
   "cell_type": "code",
   "execution_count": 40,
   "metadata": {},
   "outputs": [],
   "source": [
    "rf_features = ['shop_id', 'item_id', 'item_cnt', 'transactions', 'year',\n",
    "               'item_cnt_mean', 'item_cnt_std', 'item_cnt_shifted1', 'item_trend', 'mean_item_cnt']\n",
    "rf_train = X_train[rf_features]\n",
    "rf_val = X_validation[rf_features]\n",
    "rf_test = X_test[rf_features]"
   ]
  },
  {
   "cell_type": "code",
   "execution_count": 41,
   "metadata": {},
   "outputs": [],
   "source": [
    "\n",
    "from sklearn.ensemble import RandomForestRegressor"
   ]
  },
  {
   "cell_type": "code",
   "execution_count": 42,
   "metadata": {},
   "outputs": [
    {
     "data": {
      "text/plain": [
       "RandomForestRegressor(bootstrap=True, criterion='mse', max_depth=7,\n",
       "           max_features='auto', max_leaf_nodes=None,\n",
       "           min_impurity_decrease=0.0, min_impurity_split=None,\n",
       "           min_samples_leaf=1, min_samples_split=2,\n",
       "           min_weight_fraction_leaf=0.0, n_estimators=50, n_jobs=-1,\n",
       "           oob_score=False, random_state=0, verbose=0, warm_start=False)"
      ]
     },
     "execution_count": 42,
     "metadata": {},
     "output_type": "execute_result"
    }
   ],
   "source": [
    "rf_model = RandomForestRegressor(n_estimators=50, max_depth=7, random_state=0, n_jobs=-1)\n",
    "rf_model.fit(rf_train, Y_train)"
   ]
  },
  {
   "cell_type": "code",
   "execution_count": 43,
   "metadata": {},
   "outputs": [],
   "source": [
    "rf_train_pred = rf_model.predict(rf_train)\n",
    "rf_val_pred = rf_model.predict(rf_val)\n",
    "rf_test_pred = rf_model.predict(rf_test)"
   ]
  },
  {
   "cell_type": "code",
   "execution_count": 44,
   "metadata": {},
   "outputs": [],
   "source": [
    "from sklearn.metrics import mean_squared_error"
   ]
  },
  {
   "cell_type": "code",
   "execution_count": 45,
   "metadata": {},
   "outputs": [
    {
     "name": "stdout",
     "output_type": "stream",
     "text": [
      "Train RMSE: 1.9239633447826523\n",
      "Validation RMSE: 2.582706635131372\n"
     ]
    }
   ],
   "source": [
    "print('Train RMSE:', np.sqrt(mean_squared_error(Y_train, rf_train_pred)))\n",
    "print('Validation RMSE:', np.sqrt(mean_squared_error(Y_validation, rf_val_pred)))"
   ]
  },
  {
   "cell_type": "code",
   "execution_count": 47,
   "metadata": {},
   "outputs": [
    {
     "data": {
      "text/html": [
       "<div>\n",
       "<style scoped>\n",
       "    .dataframe tbody tr th:only-of-type {\n",
       "        vertical-align: middle;\n",
       "    }\n",
       "\n",
       "    .dataframe tbody tr th {\n",
       "        vertical-align: top;\n",
       "    }\n",
       "\n",
       "    .dataframe thead th {\n",
       "        text-align: right;\n",
       "    }\n",
       "</style>\n",
       "<table border=\"1\" class=\"dataframe\">\n",
       "  <thead>\n",
       "    <tr style=\"text-align: right;\">\n",
       "      <th></th>\n",
       "      <th>ID</th>\n",
       "      <th>item_cnt_month</th>\n",
       "    </tr>\n",
       "  </thead>\n",
       "  <tbody>\n",
       "    <tr>\n",
       "      <th>0</th>\n",
       "      <td>0</td>\n",
       "      <td>0.93</td>\n",
       "    </tr>\n",
       "    <tr>\n",
       "      <th>1</th>\n",
       "      <td>1</td>\n",
       "      <td>0.16</td>\n",
       "    </tr>\n",
       "    <tr>\n",
       "      <th>2</th>\n",
       "      <td>2</td>\n",
       "      <td>1.42</td>\n",
       "    </tr>\n",
       "    <tr>\n",
       "      <th>3</th>\n",
       "      <td>3</td>\n",
       "      <td>0.16</td>\n",
       "    </tr>\n",
       "    <tr>\n",
       "      <th>4</th>\n",
       "      <td>4</td>\n",
       "      <td>0.16</td>\n",
       "    </tr>\n",
       "    <tr>\n",
       "      <th>5</th>\n",
       "      <td>5</td>\n",
       "      <td>0.93</td>\n",
       "    </tr>\n",
       "    <tr>\n",
       "      <th>6</th>\n",
       "      <td>6</td>\n",
       "      <td>2.06</td>\n",
       "    </tr>\n",
       "    <tr>\n",
       "      <th>7</th>\n",
       "      <td>7</td>\n",
       "      <td>0.16</td>\n",
       "    </tr>\n",
       "    <tr>\n",
       "      <th>8</th>\n",
       "      <td>8</td>\n",
       "      <td>2.06</td>\n",
       "    </tr>\n",
       "    <tr>\n",
       "      <th>9</th>\n",
       "      <td>9</td>\n",
       "      <td>0.16</td>\n",
       "    </tr>\n",
       "  </tbody>\n",
       "</table>\n",
       "</div>"
      ],
      "text/plain": [
       "   ID  item_cnt_month\n",
       "0   0            0.93\n",
       "1   1            0.16\n",
       "2   2            1.42\n",
       "3   3            0.16\n",
       "4   4            0.16\n",
       "5   5            0.93\n",
       "6   6            2.06\n",
       "7   7            0.16\n",
       "8   8            2.06\n",
       "9   9            0.16"
      ]
     },
     "execution_count": 47,
     "metadata": {},
     "output_type": "execute_result"
    }
   ],
   "source": [
    "prediction_df = pd.DataFrame(sales_test['ID'], columns=['ID'])\n",
    "prediction_df['item_cnt_month'] = rf_test_pred\n",
    "prediction_df.to_csv('pred_submission.csv', index=False)\n",
    "prediction_df.head(10)"
   ]
  },
  {
   "cell_type": "code",
   "execution_count": null,
   "metadata": {},
   "outputs": [],
   "source": []
  }
 ],
 "metadata": {
  "kernelspec": {
   "display_name": "Python 3",
   "language": "python",
   "name": "python3"
  },
  "language_info": {
   "codemirror_mode": {
    "name": "ipython",
    "version": 3
   },
   "file_extension": ".py",
   "mimetype": "text/x-python",
   "name": "python",
   "nbconvert_exporter": "python",
   "pygments_lexer": "ipython3",
   "version": "3.7.1"
  }
 },
 "nbformat": 4,
 "nbformat_minor": 2
}
